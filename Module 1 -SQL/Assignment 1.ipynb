{
 "cells": [
  {
   "cell_type": "code",
   "execution_count": 0,
   "metadata": {
    "application/vnd.databricks.v1+cell": {
     "cellMetadata": {
      "byteLimit": 2048000,
      "rowLimit": 10000
     },
     "collapsed": true,
     "inputWidgets": {},
     "nuid": "5a9aa4f9-5350-4051-bfbf-80cd5959b162",
     "showTitle": false,
     "tableResultSettingsMap": {},
     "title": ""
    }
   },
   "outputs": [],
   "source": [
    "-- 1. Create the sales table\n",
    "CREATE TABLE sales (\n",
    "    sale_id INT PRIMARY KEY,\n",
    "    customer_id VARCHAR(10),\n",
    "    product VARCHAR(50),\n",
    "    amount DECIMAL(10,2),\n",
    "    sale_date DATE,\n",
    "    region VARCHAR(20)\n",
    ");"
   ]
  },
  {
   "cell_type": "code",
   "execution_count": 0,
   "metadata": {
    "application/vnd.databricks.v1+cell": {
     "cellMetadata": {
      "byteLimit": 2048000,
      "rowLimit": 10000
     },
     "collapsed": true,
     "inputWidgets": {},
     "nuid": "1081c8b4-f5a0-4d54-b2e0-dce95c51fa63",
     "showTitle": false,
     "tableResultSettingsMap": {},
     "title": ""
    }
   },
   "outputs": [],
   "source": [
    "-- 2. Insert the data into the table\n",
    "\n",
    "INSERT INTO sales (sale_id, customer_id, product, amount, sale_date, region)\n",
    "VALUES\n",
    "(101, 'C001', 'Shoes', 2999, '2023-10-01', 'North'),\n",
    "(102, 'C002', 'T-Shirt', 999, '2023-10-01', 'West'),\n",
    "(103, 'C001', 'Watch', 5999, '2023-10-02', 'North'),\n",
    "(104, 'C003', 'Bag', 1999, '2023-10-03', 'South');\n"
   ]
  },
  {
   "cell_type": "code",
   "execution_count": 0,
   "metadata": {
    "application/vnd.databricks.v1+cell": {
     "cellMetadata": {
      "byteLimit": 2048000,
      "rowLimit": 10000
     },
     "collapsed": true,
     "inputWidgets": {},
     "nuid": "79e077bc-bc47-4b33-9953-e198f85abba1",
     "showTitle": false,
     "tableResultSettingsMap": {},
     "title": ""
    }
   },
   "outputs": [],
   "source": [
    "-- SQL query to get the total sales per region\n",
    "\n",
    "SELECT region,sum(amount) as total_sales FROM sales GROUP BY region "
   ]
  },
  {
   "cell_type": "code",
   "execution_count": 0,
   "metadata": {
    "application/vnd.databricks.v1+cell": {
     "cellMetadata": {
      "byteLimit": 2048000,
      "rowLimit": 10000
     },
     "collapsed": true,
     "inputWidgets": {},
     "nuid": "50f4fc1b-5c30-4d2f-a882-6c97143c60be",
     "showTitle": false,
     "tableResultSettingsMap": {},
     "title": ""
    }
   },
   "outputs": [],
   "source": [
    "--Retrieve all orders placed on or after 2023-10-02\n",
    "SELECT * FROM\n",
    "sales where sale_date >= '2023-10-02'"
   ]
  },
  {
   "cell_type": "code",
   "execution_count": 0,
   "metadata": {
    "application/vnd.databricks.v1+cell": {
     "cellMetadata": {
      "byteLimit": 2048000,
      "rowLimit": 10000
     },
     "collapsed": true,
     "inputWidgets": {},
     "nuid": "3c334b5c-7cd9-45fe-96a6-9e2b4c556598",
     "showTitle": false,
     "tableResultSettingsMap": {},
     "title": ""
    }
   },
   "outputs": [],
   "source": [
    "-- Customers who have spent more than $2000\n",
    "\n",
    "SELECT * FROM sales WHERE amount > 2000"
   ]
  },
  {
   "cell_type": "code",
   "execution_count": 0,
   "metadata": {
    "application/vnd.databricks.v1+cell": {
     "cellMetadata": {
      "byteLimit": 2048000,
      "rowLimit": 10000
     },
     "collapsed": true,
     "inputWidgets": {},
     "nuid": "13606a11-61fe-4c37-a49f-4afe6feb6070",
     "showTitle": false,
     "tableResultSettingsMap": {},
     "title": ""
    }
   },
   "outputs": [],
   "source": [
    "SELECT  region,max(amount) FROM sales GROUP BY region"
   ]
  }
 ],
 "metadata": {
  "application/vnd.databricks.v1+notebook": {
   "computePreferences": null,
   "dashboards": [],
   "environmentMetadata": {
    "base_environment": "",
    "environment_version": "3"
   },
   "inputWidgetPreferences": null,
   "language": "sql",
   "notebookMetadata": {
    "pythonIndentUnit": 4
   },
   "notebookName": "Assignment 1",
   "widgets": {}
  },
  "language_info": {
   "name": "sql"
  }
 },
 "nbformat": 4,
 "nbformat_minor": 0
}
